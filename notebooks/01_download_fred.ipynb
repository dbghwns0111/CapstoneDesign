{
 "cells": [
  {
   "cell_type": "code",
   "execution_count": null,
   "id": "c07dd8d3",
   "metadata": {},
   "outputs": [],
   "source": [
    "# 라이브러리 설치 및 임포트\n",
    "from fredapi import Fred\n",
    "import pandas as pd\n",
    "import os"
   ]
  },
  {
   "cell_type": "code",
   "execution_count": null,
   "id": "d1a60cdb",
   "metadata": {},
   "outputs": [],
   "source": [
    "# FRED API 키 설정\n",
    "fred = Fred(api_key='63a56e3b21c9b3d23ea8c9f22fae9ddf')"
   ]
  },
  {
   "cell_type": "code",
   "execution_count": null,
   "id": "2deee3f3",
   "metadata": {},
   "outputs": [],
   "source": [
    "# 다운로드 기간 설정\n",
    "start_date = '2010-01-01'\n",
    "end_date = '2021-11-30'"
   ]
  },
  {
   "cell_type": "code",
   "execution_count": 13,
   "id": "fd7e4cb8",
   "metadata": {},
   "outputs": [],
   "source": [
    "# 데이터 리스트 정의\n",
    "fred_ids = [\n",
    "    \"KORCPIALLMINMEI\", \"KORCP010000IXOBM\", \"KORCP020000IXOBM\", \"KORCP030000IXOBM\", \"KORCP040000IXOBM\",\n",
    "    \"KORCP050000IXOBM\", \"KORCP060000IXOBM\",\"KORCP070000IXOBM\", \"KORCP080000IXOBM\", \"KORCP090000IXOBM\",\n",
    "    \"KORCP100000IXOBM\", \"KORCP110000IXOBM\", \"KORCP120000IXOBM\", \"KORCPICORMINMEI\", \"KORCPIENGMINMEI\",\n",
    "    \"KORCPGRSE01IXOBM\", \"KORCPGRLH02IXOBM\", \"KORCPGRHO02IXOBM\", \"KORCP040100IXOBM\", \"KORCP040400IXOBM\",\n",
    "    \"KORCP040500IXOBM\", \"KORCP040300IXOBM\"\n",
    "]"
   ]
  },
  {
   "cell_type": "code",
   "execution_count": 14,
   "id": "100713a6",
   "metadata": {},
   "outputs": [],
   "source": [
    "# 각 리스트 에 대한 시리즈 ID와 이름 매핑\n",
    "column_rename_map = {\n",
    "    \"KORCPIALLMINMEI\": \"Total CPI\",\n",
    "    \"KORCP010000IXOBM\": \"Food and non-alcoholic beverages\",\n",
    "    \"KORCP020000IXOBM\": \"Alcoholic beverages, tobacco and narcotics\",\n",
    "    \"KORCP030000IXOBM\": \"Clothing and footwear\",\n",
    "    \"KORCP040000IXOBM\": \"Housing, water, electricity, and fuel\",\n",
    "    \"KORCP050000IXOBM\": \"Household goods and services\",\n",
    "    \"KORCP060000IXOBM\": \"Health\",\n",
    "    \"KORCP070000IXOBM\": \"Transportation\",\n",
    "    \"KORCP080000IXOBM\": \"Communication\",\n",
    "    \"KORCP090000IXOBM\": \"Recreation and culture\",\n",
    "    \"KORCP100000IXOBM\": \"Education\",\n",
    "    \"KORCP110000IXOBM\": \"Restaurants and hotels\",\n",
    "    \"KORCP120000IXOBM\": \"Miscellaneous goods and services\",\n",
    "    \"KORCPICORMINMEI\": \"All items (non-food non-energy)\",\n",
    "    \"KORCPIENGMINMEI\": \"Energy\",\n",
    "    \"KORCPGRSE01IXOBM\": \"Services\",\n",
    "    \"KORCPGRLH02IXOBM\": \"Services less housing\",\n",
    "    \"KORCPGRHO02IXOBM\": \"Housing excluding imputed rentals for housing\",\n",
    "    \"KORCP040100IXOBM\": \"Actual rentals for housing\",\n",
    "    \"KORCP040400IXOBM\": \"Water supply and misc. services relating to dwelling\",\n",
    "    \"KORCP040500IXOBM\": \"Electricity, gas and other fuels\",\n",
    "    \"KORCP040300IXOBM\": \"Maintenance and repair of the dwelling\"\n",
    "}"
   ]
  },
  {
   "cell_type": "code",
   "execution_count": 15,
   "id": "97a450f4",
   "metadata": {},
   "outputs": [],
   "source": [
    "# 결과 데이터프레임 초기화\n",
    "data = pd.DataFrame()"
   ]
  },
  {
   "cell_type": "code",
   "execution_count": 17,
   "id": "cfa6903c",
   "metadata": {},
   "outputs": [],
   "source": [
    "# 각 시리즈 불러오기 및 이름 변경\n",
    "for fred_id in fred_ids:\n",
    "    try:\n",
    "        series_data = fred.get_series(fred_id, start_date, end_date)\n",
    "        series_data = series_data.rename(column_rename_map[fred_id])\n",
    "        data = pd.concat([data, series_data], axis=1)\n",
    "    except Exception as e:\n",
    "        print(f\"Error fetching {fred_id}: {e}\")"
   ]
  },
  {
   "cell_type": "code",
   "execution_count": null,
   "id": "955800aa",
   "metadata": {},
   "outputs": [],
   "source": [
    "# 인덱스를 datetime 형식으로 변환\n",
    "data.index = pd.to_datetime(data.index)\n",
    "data.index.name = 'Date'"
   ]
  },
  {
   "cell_type": "code",
   "execution_count": 21,
   "id": "456074ca",
   "metadata": {},
   "outputs": [],
   "source": [
    "# 저장 폴더 생성 (data/raw)\n",
    "output_dir = '../data/raw'\n",
    "os.makedirs(output_dir, exist_ok=True)"
   ]
  },
  {
   "cell_type": "code",
   "execution_count": 22,
   "id": "6d704284",
   "metadata": {},
   "outputs": [],
   "source": [
    "# csv파일 저장\n",
    "output_path = os.path.join(output_dir, 'fred_data_2010_2021.csv')\n",
    "data.to_csv(output_path)"
   ]
  }
 ],
 "metadata": {
  "kernelspec": {
   "display_name": "base",
   "language": "python",
   "name": "python3"
  },
  "language_info": {
   "codemirror_mode": {
    "name": "ipython",
    "version": 3
   },
   "file_extension": ".py",
   "mimetype": "text/x-python",
   "name": "python",
   "nbconvert_exporter": "python",
   "pygments_lexer": "ipython3",
   "version": "3.12.7"
  }
 },
 "nbformat": 4,
 "nbformat_minor": 5
}
