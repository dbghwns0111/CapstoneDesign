{
 "cells": [
  {
   "cell_type": "code",
   "execution_count": 2,
   "id": "abca304b",
   "metadata": {},
   "outputs": [],
   "source": [
    "# 라이브러리\n",
    "import pandas as pd\n",
    "import sys\n",
    "import os"
   ]
  },
  {
   "cell_type": "code",
   "execution_count": 5,
   "id": "8b9073c9",
   "metadata": {},
   "outputs": [],
   "source": [
    "# 함수 가져오기\n",
    "sys.path.append('../scripts')\n",
    "from preprocessing import load_and_normalize_data\n",
    "from data_augment import interpolate_to_daily"
   ]
  },
  {
   "cell_type": "code",
   "execution_count": null,
   "id": "afec9ba2",
   "metadata": {},
   "outputs": [],
   "source": []
  }
 ],
 "metadata": {
  "kernelspec": {
   "display_name": "base",
   "language": "python",
   "name": "python3"
  },
  "language_info": {
   "codemirror_mode": {
    "name": "ipython",
    "version": 3
   },
   "file_extension": ".py",
   "mimetype": "text/x-python",
   "name": "python",
   "nbconvert_exporter": "python",
   "pygments_lexer": "ipython3",
   "version": "3.12.7"
  }
 },
 "nbformat": 4,
 "nbformat_minor": 5
}
