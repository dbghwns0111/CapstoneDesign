{
 "cells": [
  {
   "cell_type": "code",
   "execution_count": 1,
   "id": "6a725b0c",
   "metadata": {},
   "outputs": [],
   "source": [
    "# 라이브러리 import\n",
    "import pandas as pd\n",
    "import sys\n",
    "import numpy as np\n",
    "import os"
   ]
  },
  {
   "cell_type": "code",
   "execution_count": 2,
   "id": "36dd0c27",
   "metadata": {},
   "outputs": [],
   "source": [
    "# 경로 설정 및 함수 import\n",
    "sys.path.append('../scripts')\n",
    "from window_generator import create_sliding_window"
   ]
  },
  {
   "cell_type": "code",
   "execution_count": null,
   "id": "d3887b2e",
   "metadata": {},
   "outputs": [],
   "source": [
    "# 일별 정규화 CPI 데이터 불러오기\n",
    "df_daily = pd.read_csv('../data/processed/cpi_daily_interpolated.csv', index_col='Date', parse_dates=True)"
   ]
  },
  {
   "cell_type": "code",
   "execution_count": 7,
   "id": "70c7bac5",
   "metadata": {},
   "outputs": [],
   "source": [
    "# 슬라이딩 윈도우 생성\n",
    "X, y = create_sliding_window(df_daily, input_days=310, forecast_days=31, target_column='Total CPI')"
   ]
  },
  {
   "cell_type": "code",
   "execution_count": 8,
   "id": "f7d9ef5d",
   "metadata": {},
   "outputs": [
    {
     "name": "stdout",
     "output_type": "stream",
     "text": [
      "✅ X shape: (3982, 310, 15)\n",
      "✅ y shape: (3982, 31)\n"
     ]
    }
   ],
   "source": [
    "# 결과 확인\n",
    "print(f\"✅ X shape: {X.shape}\")  # 예: (2700, 310, 22)\n",
    "print(f\"✅ y shape: {y.shape}\")  # 예: (2700, 31)"
   ]
  },
  {
   "cell_type": "code",
   "execution_count": null,
   "id": "99b01a05",
   "metadata": {},
   "outputs": [
    {
     "name": "stdout",
     "output_type": "stream",
     "text": [
      "✅ 슬라이딩 윈도우 데이터 저장 완료\n"
     ]
    }
   ],
   "source": [
    "# 저장\n",
    "np.save('../data/processed/X_input.npy', X)\n",
    "np.save('../data/processed/y_target.npy', y)\n",
    "print(\"✅ 슬라이딩 윈도우 데이터 저장 완료\")"
   ]
  }
 ],
 "metadata": {
  "kernelspec": {
   "display_name": "base",
   "language": "python",
   "name": "python3"
  },
  "language_info": {
   "codemirror_mode": {
    "name": "ipython",
    "version": 3
   },
   "file_extension": ".py",
   "mimetype": "text/x-python",
   "name": "python",
   "nbconvert_exporter": "python",
   "pygments_lexer": "ipython3",
   "version": "3.12.7"
  }
 },
 "nbformat": 4,
 "nbformat_minor": 5
}
