{
 "cells": [
  {
   "cell_type": "code",
   "execution_count": 42,
   "id": "f0697d5e",
   "metadata": {},
   "outputs": [],
   "source": [
    "# 라이브러리\n",
    "import torch\n",
    "import torch.nn as nn\n",
    "import torch.optim as optim\n",
    "import numpy as np\n",
    "import sys\n",
    "import os\n",
    "from torch.utils.data import TensorDataset, DataLoader\n",
    "from sklearn.metrics import root_mean_squared_error, mean_absolute_error, r2_score"
   ]
  },
  {
   "cell_type": "code",
   "execution_count": 18,
   "id": "94eb5781",
   "metadata": {},
   "outputs": [],
   "source": [
    "# 경로 및 모듈 로딩\n",
    "sys.path.append(os.path.abspath('../scripts'))\n",
    "from model import CNNLSTMModel  # 또는 cnn_lstm_model.py 사용 시"
   ]
  },
  {
   "cell_type": "code",
   "execution_count": 19,
   "id": "1a8a4d9a",
   "metadata": {},
   "outputs": [
    {
     "name": "stdout",
     "output_type": "stream",
     "text": [
      "🚀 Using device: cuda\n"
     ]
    }
   ],
   "source": [
    "# 디바이스 설정\n",
    "device = torch.device('cuda' if torch.cuda.is_available() else 'cpu')\n",
    "print(f\"🚀 Using device: {device}\")"
   ]
  },
  {
   "cell_type": "code",
   "execution_count": null,
   "id": "f34347b3",
   "metadata": {},
   "outputs": [],
   "source": [
    "# 데이터 로딩\n",
    "X = np.load('../data/processed/X_input.npy')\n",
    "y = np.load('../data/processed/y_target.npy')\n",
    "\n",
    "X_tensor = torch.tensor(X, dtype=torch.float32)\n",
    "y_tensor = torch.tensor(y, dtype=torch.float32)"
   ]
  },
  {
   "cell_type": "code",
   "execution_count": 24,
   "id": "c8a90c67",
   "metadata": {},
   "outputs": [],
   "source": [
    "# 데이터 분할\n",
    "train_ratio = 0.8\n",
    "split_idx = int(len(X_tensor) * train_ratio)\n",
    "X_train, X_val = X_tensor[:split_idx], X_tensor[split_idx:]\n",
    "y_train, y_val = y_tensor[:split_idx], y_tensor[split_idx:]"
   ]
  },
  {
   "cell_type": "code",
   "execution_count": 30,
   "id": "6664cc3a",
   "metadata": {},
   "outputs": [],
   "source": [
    "# TensorDataset & DataLoader\n",
    "batch_size = 64  # or 32 for tighter memory\n",
    "train_dataset = TensorDataset(X_train, y_train)\n",
    "val_dataset = TensorDataset(X_val, y_val)\n",
    "\n",
    "train_loader = DataLoader(train_dataset, batch_size=batch_size, shuffle=True)\n",
    "val_loader = DataLoader(val_dataset, batch_size=batch_size)"
   ]
  },
  {
   "cell_type": "code",
   "execution_count": 31,
   "id": "5d2022f9",
   "metadata": {},
   "outputs": [],
   "source": [
    "# 모델 정의\n",
    "input_dim = X.shape[2]\n",
    "model = CNNLSTMModel(input_dim=input_dim).to(device)\n",
    "\n",
    "criterion = nn.MSELoss()\n",
    "optimizer = optim.Adam(model.parameters(), lr=0.001)"
   ]
  },
  {
   "cell_type": "code",
   "execution_count": 32,
   "id": "3530d105",
   "metadata": {},
   "outputs": [
    {
     "name": "stdout",
     "output_type": "stream",
     "text": [
      "[01/20] 🟢 Train Loss: 0.035623 | 🔵 Val Loss: 0.020719\n",
      "[02/20] 🟢 Train Loss: 0.001552 | 🔵 Val Loss: 0.010993\n",
      "[03/20] 🟢 Train Loss: 0.000595 | 🔵 Val Loss: 0.002629\n",
      "[04/20] 🟢 Train Loss: 0.000130 | 🔵 Val Loss: 0.002572\n",
      "[05/20] 🟢 Train Loss: 0.000110 | 🔵 Val Loss: 0.002850\n",
      "[06/20] 🟢 Train Loss: 0.000109 | 🔵 Val Loss: 0.002331\n",
      "[07/20] 🟢 Train Loss: 0.000100 | 🔵 Val Loss: 0.002035\n",
      "[08/20] 🟢 Train Loss: 0.000097 | 🔵 Val Loss: 0.002296\n",
      "[09/20] 🟢 Train Loss: 0.000098 | 🔵 Val Loss: 0.002495\n",
      "[10/20] 🟢 Train Loss: 0.000093 | 🔵 Val Loss: 0.001950\n",
      "[11/20] 🟢 Train Loss: 0.000088 | 🔵 Val Loss: 0.002264\n",
      "[12/20] 🟢 Train Loss: 0.000091 | 🔵 Val Loss: 0.002115\n",
      "[13/20] 🟢 Train Loss: 0.000089 | 🔵 Val Loss: 0.001560\n",
      "[14/20] 🟢 Train Loss: 0.000101 | 🔵 Val Loss: 0.001852\n",
      "[15/20] 🟢 Train Loss: 0.000089 | 🔵 Val Loss: 0.001690\n",
      "[16/20] 🟢 Train Loss: 0.000095 | 🔵 Val Loss: 0.001601\n",
      "[17/20] 🟢 Train Loss: 0.000079 | 🔵 Val Loss: 0.001833\n",
      "[18/20] 🟢 Train Loss: 0.000095 | 🔵 Val Loss: 0.001619\n",
      "[19/20] 🟢 Train Loss: 0.000092 | 🔵 Val Loss: 0.001450\n",
      "[20/20] 🟢 Train Loss: 0.000078 | 🔵 Val Loss: 0.002032\n"
     ]
    }
   ],
   "source": [
    "# 학습 루프\n",
    "epochs = 20\n",
    "for epoch in range(1, epochs + 1):\n",
    "    model.train()\n",
    "    train_loss = 0.0\n",
    "\n",
    "    for xb, yb in train_loader:\n",
    "        xb, yb = xb.to(device), yb.to(device)\n",
    "        optimizer.zero_grad()\n",
    "        output = model(xb)\n",
    "        loss = criterion(output, yb)\n",
    "        loss.backward()\n",
    "        optimizer.step()\n",
    "        train_loss += loss.item() * xb.size(0)\n",
    "\n",
    "    train_loss /= len(train_loader.dataset)\n",
    "\n",
    "    # 🔹 검증\n",
    "    model.eval()\n",
    "    val_loss = 0.0\n",
    "    with torch.no_grad():\n",
    "        for xb, yb in val_loader:\n",
    "            xb, yb = xb.to(device), yb.to(device)\n",
    "            output = model(xb)\n",
    "            loss = criterion(output, yb)\n",
    "            val_loss += loss.item() * xb.size(0)\n",
    "\n",
    "    val_loss /= len(val_loader.dataset)\n",
    "\n",
    "    print(f\"[{epoch:02d}/{epochs}] 🟢 Train Loss: {train_loss:.6f} | 🔵 Val Loss: {val_loss:.6f}\")"
   ]
  },
  {
   "cell_type": "code",
   "execution_count": null,
   "id": "380b06b0",
   "metadata": {},
   "outputs": [
    {
     "name": "stdout",
     "output_type": "stream",
     "text": [
      "✅ 모델 저장 완료: ../models/cnn_lstm_model.pt\n"
     ]
    }
   ],
   "source": [
    "# 모델 저장\n",
    "os.makedirs('../models', exist_ok=True)\n",
    "torch.save(model.state_dict(), '../models/cnn_lstm_model.pt')\n",
    "print(\"✅ 모델 저장 완료: ../models/cnn_lstm_model.pt\")"
   ]
  },
  {
   "cell_type": "code",
   "execution_count": 35,
   "id": "550b97f2",
   "metadata": {},
   "outputs": [],
   "source": [
    "# 성능 지표 평가\n",
    "model.eval()\n",
    "y_val_pred = []\n",
    "y_val_true = []\n",
    "\n",
    "with torch.no_grad():\n",
    "    for xb, yb in val_loader:\n",
    "        xb = xb.to(device)\n",
    "        pred = model(xb).cpu().numpy()\n",
    "        y_val_pred.append(pred)\n",
    "        y_val_true.append(yb.cpu().numpy())\n",
    "\n",
    "y_val_pred = np.concatenate(y_val_pred, axis=0)\n",
    "y_val_true = np.concatenate(y_val_true, axis=0)"
   ]
  },
  {
   "cell_type": "code",
   "execution_count": 49,
   "id": "355a8db9",
   "metadata": {},
   "outputs": [
    {
     "name": "stdout",
     "output_type": "stream",
     "text": [
      "📊 성능 지표:\n",
      "SMAPE: 3.9032\n",
      "RMSE: 0.0445\n",
      "MAE: 0.0344\n",
      "R2: 0.5348\n",
      "NRMSE: 0.6821\n"
     ]
    }
   ],
   "source": [
    "# 월별 CPI 평균값 기준 평가\n",
    "y_true_avg = y_val_true.mean(axis=1)\n",
    "y_pred_avg = y_val_pred.mean(axis=1)\n",
    "\n",
    "smape = np.mean(np.abs((y_true_avg - y_pred_avg) / y_true_avg)) * 100\n",
    "rmse = root_mean_squared_error(y_true_avg, y_pred_avg)\n",
    "mae = mean_absolute_error(y_true_avg, y_pred_avg)\n",
    "r2 = r2_score(y_true_avg, y_pred_avg)\n",
    "nrmse = rmse / np.std(y_true_avg)\n",
    "\n",
    "print(f\"📊 성능 지표:\")\n",
    "print(f\"SMAPE: {smape:.4f}\\nRMSE: {rmse:.4f}\\nMAE: {mae:.4f}\\nR2: {r2:.4f}\\nNRMSE: {nrmse:.4f}\")"
   ]
  },
  {
   "cell_type": "code",
   "execution_count": 45,
   "id": "51a50bd3",
   "metadata": {},
   "outputs": [
    {
     "name": "stdout",
     "output_type": "stream",
     "text": [
      "📁 성능 지표 저장 완료: ../results/metrics.txt\n"
     ]
    }
   ],
   "source": [
    "# 성능 지표 저장\n",
    "os.makedirs('../results', exist_ok=True)\n",
    "with open('../results/metrics.txt', 'w') as f:\n",
    "    f.write(f\"RMSE   : {rmse:.6f}\\n\")\n",
    "    f.write(f\"MAE    : {mae:.6f}\\n\")\n",
    "    f.write(f\"R²     : {r2:.4f}\\n\")\n",
    "    f.write(f\"NRMSE  : {nrmse:.4f}\\n\")\n",
    "print(\"📁 성능 지표 저장 완료: ../results/metrics.txt\")"
   ]
  },
  {
   "cell_type": "code",
   "execution_count": null,
   "id": "a1c23a83",
   "metadata": {},
   "outputs": [],
   "source": []
  }
 ],
 "metadata": {
  "kernelspec": {
   "display_name": "base",
   "language": "python",
   "name": "python3"
  },
  "language_info": {
   "codemirror_mode": {
    "name": "ipython",
    "version": 3
   },
   "file_extension": ".py",
   "mimetype": "text/x-python",
   "name": "python",
   "nbconvert_exporter": "python",
   "pygments_lexer": "ipython3",
   "version": "3.12.7"
  }
 },
 "nbformat": 4,
 "nbformat_minor": 5
}
